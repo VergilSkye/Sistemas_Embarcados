{
 "cells": [
  {
   "attachments": {},
   "cell_type": "markdown",
   "metadata": {},
   "source": [
    "### Código a partir do Vídeo:\n",
    "\n",
    "https://www.youtube.com/watch?v=pDA4mncyJ8Q&ab_channel=AlexandreH\n",
    "\n",
    "https://www.youtube.com/watch?v=3cwkEOUscXA&ab_channel=AlexandreH"
   ]
  },
  {
   "cell_type": "code",
   "execution_count": 7,
   "metadata": {},
   "outputs": [],
   "source": [
    "import cv2\n",
    "\n",
    "#pytesseract.pytesseract.tesseract_cmd = 'C:\\\\Program Files\\\\Tesseract-OCR\\\\tesseract.exe'\n",
    "import pytesseract\n",
    "\n",
    "\n"
   ]
  },
  {
   "cell_type": "code",
   "execution_count": 2,
   "metadata": {},
   "outputs": [],
   "source": [
    "def encontrar_a_placa (imagem_carro):\n",
    "    img = cv2.imread(imagem_carro)\n",
    "    #img = cv2.imread('../Imagem/CARRO4.JPG') \n",
    "    #cv2.imshow('img', img)\n",
    "\n",
    "    # Escalas de Cinza para o openCV indentificar\n",
    "    cinza = cv2.cvtColor(img, cv2.COLOR_BGR2GRAY)\n",
    "    #cv2.imshow('cinza', cinza)\n",
    "\n",
    "    # Converter em preto e branco, para binarizar a imagem com as escalas de cores demonstradas com os números \n",
    "    # indo até 128 no coloração preta e 255 na coloração branca\n",
    "\n",
    "    _, bin = cv2.threshold (cinza, 60, 220, cv2.THRESH_BINARY) \n",
    "\n",
    "    # TRESH_BINARY traz o limite para as cores \n",
    "    # _, essa variável necessita de um retorno\n",
    "\n",
    "    #cv2.imshow('bin', bin)\n",
    "\n",
    "    # Desfocar a imagem para identificar melhor as formas geométricas, encontrando melhor os contornos\n",
    "\n",
    "    desfocar = cv2.GaussianBlur(bin, (5,5), 0)\n",
    "    cv2.imshow('Imagem_desfocada', desfocar)\n",
    "\n",
    "    # Agora procurar os contornos\n",
    "\n",
    "    contornos, hierarquia = cv2.findContours(desfocar, cv2.RETR_TREE, cv2.CHAIN_APPROX_NONE)\n",
    "\n",
    "    #cv2.drawContours(img, contornos, -1,  (0 , 255, 0), 2 )\n",
    "\n",
    "    # o -1 é o ID dos contornos, como não precisa dessa informação colocamos o -1\n",
    "    # 0 255 0 ---> Cor do contorno, no caso verde \n",
    "    # 2 ------> largura da borda do contorno\n",
    "\n",
    "    #cv2.imshow('Contornos', img)\n",
    "    #cv2.waitKey(0)\n",
    "    #cv2.destroyAllWindows()\n",
    "\n",
    "    # fazer contornos quadrados \n",
    "\n",
    "    for c in contornos:\n",
    "    \n",
    "        perimetro = cv2.arcLength (c, True)\n",
    "        aprox = cv2.approxPolyDP(c, 0.03*perimetro, True)\n",
    "        \n",
    "        if perimetro > 500:\n",
    "            aprox = cv2.approxPolyDP(c, 0.03*perimetro, True)\n",
    "            \n",
    "            # Igualar a quatro cantos e aproximar a um retângulo\n",
    "\n",
    "            if len (aprox) == 4:\n",
    "                (x, y, altura, largura) = cv2.boundingRect(c)\n",
    "                cv2.rectangle (img, (x,y), (x+altura, y+largura), (0,255,0), 2)\n",
    "\n",
    "                temporario = img[y:y + largura, x:x + altura]\n",
    "                cv2.imwrite('../Imagem/Imagem_temporaria.jpg', temporario)\n",
    "\n",
    "    cv2.imshow ('Placa_contornada', img)\n",
    "    cv2.waitKey(0) \n",
    "    cv2.destroyAllWindows()\n",
    "\n"
   ]
  },
  {
   "cell_type": "code",
   "execution_count": 3,
   "metadata": {},
   "outputs": [],
   "source": [
    "def pre_processamento():\n",
    "    \n",
    "    imagem_placa = cv2.imread('..\\Imagem\\Imagem_temporaria.jpg') \n",
    "\n",
    "    if imagem_placa is None:\n",
    "        return\n",
    "    \n",
    "    # Aumentar a imagem para um melhor ajuste no tesseract\n",
    "\n",
    "    img_aumentada = cv2.resize(imagem_placa, None, fx=4, fy=4, interpolation=cv2.INTER_CUBIC)\n",
    "    \n",
    "    # O 50 e o 255 são colocados na placa, é a margem do quanto de branco e cinza serão adicionados na imagem para realçar as letras \n",
    "\n",
    "    img_cinza = cv2.cvtColor(img_aumentada, cv2.COLOR_BGR2GRAY)\n",
    "    \n",
    "    #img_cinza = cv2.cvtColor(img_aumentada, cv2.COLOR_BGR2GRAY)\n",
    "\n",
    "    _, img_binaria = cv2.threshold (img_cinza, 65, 200, cv2.THRESH_BINARY)\n",
    "\n",
    "    # Salvar a imagem binarizada e em cinza\n",
    "\n",
    "    cv2.imwrite('../Imagem/placa_binarizada.jpg', img_binaria)\n",
    "    cv2.imwrite('../Imagem/placa_binarizada_png.png', img_binaria)\n",
    "\n",
    "    #cv2.imshow(\"ler_placa\", imagem_placa)\n",
    "    #cv2.imshow(\"placa_cinza\", img_cinza)\n",
    "    cv2.imshow(\"placa_binaria\", img_binaria)\n",
    "    cv2.waitKey(0) \n",
    "    cv2.destroyAllWindows()\n"
   ]
  },
  {
   "cell_type": "code",
   "execution_count": 4,
   "metadata": {},
   "outputs": [],
   "source": [
    "def Ocr_da_Placa():\n",
    "    \n",
    "    img_ocr = cv2.imread('../Imagem/placa_binarizada.jpg')\n",
    "\n",
    "    config = r'-c tessedit_char_whitelist=ABCDEFGHIJKLMNOPQRSTUVWYXZ0123456789 --psm 6'\n",
    "    # A saida será em inglês para ler melhor a placa em lang = eng\n",
    "\n",
    "    saida = pytesseract.image_to_string(img_ocr, lang=\"eng\", config=config)\n",
    "    print(saida)\n",
    "\n",
    "    "
   ]
  },
  {
   "cell_type": "code",
   "execution_count": 8,
   "metadata": {},
   "outputs": [
    {
     "name": "stdout",
     "output_type": "stream",
     "text": [
      "SHS311\n",
      "\n"
     ]
    }
   ],
   "source": [
    "if __name__ == \"__main__\":\n",
    "    \n",
    "    imagem_carro = '../Imagem/image2.jpg';\n",
    "\n",
    "    encontrar_a_placa(imagem_carro)\n",
    "\n",
    "    pre_processamento()\n",
    "\n",
    "    Ocr_da_Placa()\n"
   ]
  }
 ],
 "metadata": {
  "kernelspec": {
   "display_name": "base",
   "language": "python",
   "name": "python3"
  },
  "language_info": {
   "codemirror_mode": {
    "name": "ipython",
    "version": 3
   },
   "file_extension": ".py",
   "mimetype": "text/x-python",
   "name": "python",
   "nbconvert_exporter": "python",
   "pygments_lexer": "ipython3",
   "version": "3.9.12"
  },
  "orig_nbformat": 4
 },
 "nbformat": 4,
 "nbformat_minor": 2
}
