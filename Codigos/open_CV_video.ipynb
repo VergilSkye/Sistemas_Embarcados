{
 "cells": [
  {
   "attachments": {},
   "cell_type": "markdown",
   "metadata": {},
   "source": [
    "### Código a partir do Vídeo:\n",
    "\n",
    "https://www.youtube.com/watch?v=pDA4mncyJ8Q&ab_channel=AlexandreH\n",
    "\n",
    "https://www.youtube.com/watch?v=3cwkEOUscXA&ab_channel=AlexandreH"
   ]
  },
  {
   "cell_type": "code",
   "execution_count": 4,
   "metadata": {},
   "outputs": [],
   "source": [
    "import cv2\n"
   ]
  },
  {
   "cell_type": "code",
   "execution_count": 60,
   "metadata": {},
   "outputs": [],
   "source": [
    "img = cv2.imread('../Imagem/CARRO1.JPG') \n",
    "cv2.imshow('img', img)\n",
    "cv2.waitKey(0)\n",
    "cv2.destroyAllWindows()"
   ]
  },
  {
   "cell_type": "code",
   "execution_count": 36,
   "metadata": {},
   "outputs": [],
   "source": [
    "# Escalas de Cinza para o openCV indentificar\n",
    "\n",
    "cinza = cv2.cvtColor(img, cv2.COLOR_BGR2GRAY)\n",
    "cv2.imshow('cinza', cinza)\n",
    "cv2.waitKey(0)\n",
    "cv2.destroyAllWindows()"
   ]
  },
  {
   "cell_type": "code",
   "execution_count": 41,
   "metadata": {},
   "outputs": [],
   "source": [
    "# Converter em preto e branco, para binarizar a imagem com as escalas de cores demonstradas com os números \n",
    "# indo até 128 no coloração preta e 255 na coloração branca\n",
    "\n",
    "_, bin = cv2.threshold (cinza, 90, 255, cv2.THRESH_BINARY) \n",
    "\n",
    "# TRESH_BINARY traz o limite para as cores \n",
    "# _, essa variável necessita de um retorno\n",
    "\n",
    "cv2.imshow('bin', bin)\n",
    "cv2.waitKey(0)\n",
    "cv2.destroyAllWindows()\n"
   ]
  },
  {
   "cell_type": "code",
   "execution_count": 52,
   "metadata": {},
   "outputs": [],
   "source": [
    "# Desfocar a imagem para identificar melhor as formas geométricas, encontrando melhor os contornos\n",
    "\n",
    "desfocar = cv2.GaussianBlur(bin, (5,5), 0)\n",
    "cv2.imshow('Imagem_desfocada', desfocar)\n",
    "cv2.waitKey(0)\n",
    "cv2.destroyAllWindows()"
   ]
  },
  {
   "cell_type": "code",
   "execution_count": 61,
   "metadata": {},
   "outputs": [],
   "source": [
    "# Agora procurar os contornos\n",
    "\n",
    "contornos, hierarquia = cv2.findContours(desfocar, cv2.RETR_TREE, cv2.CHAIN_APPROX_NONE)\n",
    "\n",
    "cv2.drawContours(img, contornos, -1,  (0 , 255, 0), 2 )\n",
    "\n",
    "# o -1 é o ID dos contornos, como não precisa dessa informação colocamos o -1\n",
    "# 0 255 0 ---> Cor do contorno, no caso verde \n",
    "# 2 ------> largura da borda do contorno\n",
    "\n",
    "cv2.imshow('Contornos', img)\n",
    "cv2.waitKey(0)\n",
    "cv2.destroyAllWindows()"
   ]
  },
  {
   "cell_type": "code",
   "execution_count": 76,
   "metadata": {},
   "outputs": [],
   "source": [
    "# fazer contornos quadrados \n",
    "\n",
    "for c in contornos:\n",
    "    perimetro = cv2.arcLength (c, True)\n",
    "    aprox = cv2.approxPolyDP(c, 0.03*perimetro,True)\n",
    "        \n",
    "        # Igualar a quatro cantos e aproximar a um retângulo\n",
    "    if len(aprox) == 4:\n",
    "        (x, y, altura, largura) = cv2.boundingRect(c)\n",
    "        cv2.rectangle (img, (x,y), (x+altura, y+largura), (0,255,0), 2)\n",
    "\n",
    "cv2.imshow ('Placa_contornada', img)\n",
    "cv2.waitKey(0) \n",
    "cv2.destroyAllWindows()"
   ]
  }
 ],
 "metadata": {
  "kernelspec": {
   "display_name": "base",
   "language": "python",
   "name": "python3"
  },
  "language_info": {
   "codemirror_mode": {
    "name": "ipython",
    "version": 3
   },
   "file_extension": ".py",
   "mimetype": "text/x-python",
   "name": "python",
   "nbconvert_exporter": "python",
   "pygments_lexer": "ipython3",
   "version": "3.9.12"
  },
  "orig_nbformat": 4
 },
 "nbformat": 4,
 "nbformat_minor": 2
}
