{
 "cells": [
  {
   "cell_type": "code",
   "execution_count": 3,
   "id": "6ca5270c",
   "metadata": {
    "scrolled": true
   },
   "outputs": [],
   "source": [
    "import cv2\n",
    "import imutils\n",
    "import numpy as np\n",
    "import pytesseract\n",
    "from PIL import Image"
   ]
  },
  {
   "cell_type": "code",
   "execution_count": 1,
   "id": "d118857f",
   "metadata": {},
   "outputs": [
    {
     "name": "stdout",
     "output_type": "stream",
     "text": [
      "Defaulting to user installation because normal site-packages is not writeable\n",
      "Requirement already satisfied: scikit-image in c:\\programdata\\anaconda3\\lib\\site-packages (0.19.2)\n",
      "Requirement already satisfied: networkx>=2.2 in c:\\programdata\\anaconda3\\lib\\site-packages (from scikit-image) (2.7.1)\n",
      "Requirement already satisfied: pillow!=7.1.0,!=7.1.1,!=8.3.0,>=6.1.0 in c:\\programdata\\anaconda3\\lib\\site-packages (from scikit-image) (9.0.1)\n",
      "Requirement already satisfied: packaging>=20.0 in c:\\programdata\\anaconda3\\lib\\site-packages (from scikit-image) (21.3)\n",
      "Requirement already satisfied: numpy>=1.17.0 in c:\\programdata\\anaconda3\\lib\\site-packages (from scikit-image) (1.21.5)\n",
      "Requirement already satisfied: imageio>=2.4.1 in c:\\programdata\\anaconda3\\lib\\site-packages (from scikit-image) (2.9.0)\n",
      "Requirement already satisfied: tifffile>=2019.7.26 in c:\\programdata\\anaconda3\\lib\\site-packages (from scikit-image) (2021.7.2)\n",
      "Requirement already satisfied: scipy>=1.4.1 in c:\\programdata\\anaconda3\\lib\\site-packages (from scikit-image) (1.7.3)\n",
      "Requirement already satisfied: PyWavelets>=1.1.1 in c:\\programdata\\anaconda3\\lib\\site-packages (from scikit-image) (1.3.0)\n",
      "Requirement already satisfied: pyparsing!=3.0.5,>=2.0.2 in c:\\programdata\\anaconda3\\lib\\site-packages (from packaging>=20.0->scikit-image) (3.0.4)\n",
      "Note: you may need to restart the kernel to use updated packages.\n"
     ]
    }
   ],
   "source": [
    "pip install scikit-image"
   ]
  },
  {
   "cell_type": "code",
   "execution_count": 4,
   "id": "ecf5fcbd",
   "metadata": {},
   "outputs": [],
   "source": [
    "img = cv2.imread('CARRO1.JPG', cv2.IMREAD_UNCHANGED)"
   ]
  },
  {
   "cell_type": "markdown",
   "id": "d7f537a3",
   "metadata": {},
   "source": [
    "<img src=\"CARRO1.JPG\">"
   ]
  },
  {
   "cell_type": "code",
   "execution_count": 10,
   "id": "7113458c",
   "metadata": {},
   "outputs": [
    {
     "data": {
      "text/plain": [
       "array([[[16, 40, 28],\n",
       "        [18, 42, 30],\n",
       "        [20, 46, 33],\n",
       "        ...,\n",
       "        [25, 54, 38],\n",
       "        [20, 48, 35],\n",
       "        [20, 48, 35]],\n",
       "\n",
       "       [[16, 40, 28],\n",
       "        [15, 41, 28],\n",
       "        [16, 42, 29],\n",
       "        ...,\n",
       "        [24, 53, 37],\n",
       "        [19, 47, 34],\n",
       "        [19, 47, 34]],\n",
       "\n",
       "       [[16, 42, 28],\n",
       "        [15, 41, 27],\n",
       "        [14, 40, 26],\n",
       "        ...,\n",
       "        [21, 50, 34],\n",
       "        [19, 45, 32],\n",
       "        [19, 45, 32]],\n",
       "\n",
       "       ...,\n",
       "\n",
       "       [[34, 38, 43],\n",
       "        [29, 33, 38],\n",
       "        [25, 28, 32],\n",
       "        ...,\n",
       "        [10,  8,  8],\n",
       "        [10,  8,  8],\n",
       "        [10,  8,  8]],\n",
       "\n",
       "       [[39, 43, 48],\n",
       "        [33, 37, 42],\n",
       "        [26, 29, 33],\n",
       "        ...,\n",
       "        [10,  8,  8],\n",
       "        [10,  8,  8],\n",
       "        [10,  8,  8]],\n",
       "\n",
       "       [[44, 48, 53],\n",
       "        [36, 40, 45],\n",
       "        [28, 31, 35],\n",
       "        ...,\n",
       "        [10,  8,  8],\n",
       "        [10,  8,  8],\n",
       "        [10,  8,  8]]], dtype=uint8)"
      ]
     },
     "execution_count": 10,
     "metadata": {},
     "output_type": "execute_result"
    }
   ],
   "source": [
    "img"
   ]
  },
  {
   "cell_type": "code",
   "execution_count": 9,
   "id": "08be9284",
   "metadata": {},
   "outputs": [
    {
     "ename": "error",
     "evalue": "OpenCV(4.7.0) :-1: error: (-5:Bad argument) in function 'resize'\n> Overload resolution failed:\n>  - src is not a numpy array, neither a scalar\n>  - Expected Ptr<cv::UMat> for argument 'src'\n",
     "output_type": "error",
     "traceback": [
      "\u001b[1;31m---------------------------------------------------------------------------\u001b[0m",
      "\u001b[1;31merror\u001b[0m                                     Traceback (most recent call last)",
      "Input \u001b[1;32mIn [9]\u001b[0m, in \u001b[0;36m<cell line: 1>\u001b[1;34m()\u001b[0m\n\u001b[1;32m----> 1\u001b[0m img \u001b[38;5;241m=\u001b[39m \u001b[43mcv2\u001b[49m\u001b[38;5;241;43m.\u001b[39;49m\u001b[43mresize\u001b[49m\u001b[43m(\u001b[49m\u001b[38;5;124;43m'\u001b[39;49m\u001b[38;5;124;43mimg\u001b[39;49m\u001b[38;5;124;43m'\u001b[39;49m\u001b[43m,\u001b[49m\u001b[43m \u001b[49m\u001b[43m(\u001b[49m\u001b[38;5;241;43m620\u001b[39;49m\u001b[43m,\u001b[49m\u001b[38;5;241;43m480\u001b[39;49m\u001b[43m)\u001b[49m\u001b[43m \u001b[49m\u001b[43m)\u001b[49m\n\u001b[0;32m      2\u001b[0m gray \u001b[38;5;241m=\u001b[39m cv2\u001b[38;5;241m.\u001b[39mcvtColor(\u001b[38;5;124m'\u001b[39m\u001b[38;5;124mimg\u001b[39m\u001b[38;5;124m'\u001b[39m, cv2\u001b[38;5;241m.\u001b[39mCOLOR_BGR2GRAY)\n",
      "\u001b[1;31merror\u001b[0m: OpenCV(4.7.0) :-1: error: (-5:Bad argument) in function 'resize'\n> Overload resolution failed:\n>  - src is not a numpy array, neither a scalar\n>  - Expected Ptr<cv::UMat> for argument 'src'\n"
     ]
    }
   ],
   "source": [
    "img = cv2.resize('img', (620,480) )\n",
    "gray = cv2.cvtColor('img', cv2.COLOR_BGR2GRAY) #convert to grey scale\n",
    "\n",
    "\n",
    "\n"
   ]
  },
  {
   "cell_type": "code",
   "execution_count": 8,
   "id": "548c4ccb",
   "metadata": {},
   "outputs": [
    {
     "ename": "NameError",
     "evalue": "name 'gray' is not defined",
     "output_type": "error",
     "traceback": [
      "\u001b[1;31m---------------------------------------------------------------------------\u001b[0m",
      "\u001b[1;31mNameError\u001b[0m                                 Traceback (most recent call last)",
      "Input \u001b[1;32mIn [8]\u001b[0m, in \u001b[0;36m<cell line: 1>\u001b[1;34m()\u001b[0m\n\u001b[1;32m----> 1\u001b[0m gray \u001b[38;5;241m=\u001b[39m cv2\u001b[38;5;241m.\u001b[39mbilateralFilter(\u001b[43mgray\u001b[49m, \u001b[38;5;241m11\u001b[39m, \u001b[38;5;241m17\u001b[39m, \u001b[38;5;241m17\u001b[39m)\n",
      "\u001b[1;31mNameError\u001b[0m: name 'gray' is not defined"
     ]
    }
   ],
   "source": [
    "gray = cv2.bilateralFilter(gray, 11, 17, 17)"
   ]
  },
  {
   "cell_type": "markdown",
   "id": "a15de4da",
   "metadata": {},
   "source": [
    "gray = cv2.cvtColor(img, cv2.COLOR_BGR2GRAY) #convert to grey scale\n",
    "\n",
    "gray = cv2.bilateralFilter(gray, 11, 17, 17) #Blur to reduce noise\n",
    "\n",
    "edged = cv2.Canny(gray, 30, 200) #Perform Edge detection\n",
    "\n",
    "\n",
    "# find contours in the edged image, keep only the largest\n",
    "\n",
    "# ones, and initialize our screen contour\n",
    "\n",
    "cnts = cv2.findContours(edged.copy(), cv2.RETR_TREE, cv2.CHAIN_APPROX_SIMPLE)\n",
    "\n",
    "cnts = imutils.grab_contours(cnts)\n",
    "\n",
    "cnts = sorted(cnts, key = cv2.contourArea, reverse = True)[:10]\n",
    "\n",
    "screenCnt = None\n",
    "\n",
    "\n",
    "# loop over our contours\n",
    "\n",
    "for c in cnts:\n",
    "\n",
    " # approximate the contour\n",
    "\n",
    " peri = cv2.arcLength(c, True)\n",
    "\n",
    " approx = cv2.approxPolyDP(c, 0.018 * peri, True)\n",
    "\n",
    " \n",
    "\n",
    " # if our approximated contour has four points, then\n",
    "\n",
    " # we can assume that we have found our screen\n",
    "\n",
    " if len(approx) == 4:\n",
    "\n",
    "  screenCnt = approx\n",
    "\n",
    "  break\n",
    "\n",
    "\n",
    " \n",
    "\n",
    "\n",
    "if screenCnt is None:\n",
    "\n",
    " detected = 0\n",
    "\n",
    " print \"No contour detected\"\n",
    "\n",
    "else:\n",
    "\n",
    " detected = 1\n",
    "\n",
    "\n",
    "if detected == 1:\n",
    "\n",
    " cv2.drawContours(img, [screenCnt], -1, (0, 255, 0), 3)\n",
    "\n",
    "\n",
    "# Masking the part other than the number plate\n",
    "\n",
    "mask = np.zeros(gray.shape,np.uint8)\n",
    "\n",
    "new_image = cv2.drawContours(mask,[screenCnt],0,255,-1,)\n",
    "\n",
    "new_image = cv2.bitwise_and(img,img,mask=mask)\n",
    "\n",
    "\n",
    "# Now crop\n",
    "\n",
    "(x, y) = np.where(mask == 255)\n",
    "\n",
    "(topx, topy) = (np.min(x), np.min(y))\n",
    "\n",
    "(bottomx, bottomy) = (np.max(x), np.max(y))\n",
    "\n",
    "Cropped = gray[topx:bottomx+1, topy:bottomy+1]\n",
    "\n",
    "\n",
    " \n",
    "\n",
    "\n",
    "#Read the number plate\n",
    "\n",
    "text = pytesseract.image_to_string(Cropped, config='--psm 11')\n",
    "\n",
    "print(\"Detected Number is:\",text)\n",
    "\n",
    "\n",
    "cv2.imshow('image',img)\n",
    "\n",
    "cv2.imshow('Cropped',Cropped)\n",
    "\n",
    "\n",
    "cv2.waitKey(0)\n",
    "\n",
    "cv2.destroyAllWindows()"
   ]
  },
  {
   "cell_type": "code",
   "execution_count": null,
   "id": "cb228dd3",
   "metadata": {},
   "outputs": [],
   "source": [
    "# read original image\n",
    "img = cv2.imread('CARRO1.jpg')\n",
    "cv2.imshow('original', img)\n",
    "cv2.waitKey(0)\n",
    "\n",
    "\n",
    "# convert it to gray and apply filter \n",
    "gray = cv2.cvtColor(img, cv2.COLOR_BGR2GRAY) #convert to grey scale\n",
    "gray = cv2.bilateralFilter(gray, 11, 17, 17)\n",
    "cv2.imshow('gray', gray)\n",
    "cv2.waitKey(0)\n",
    "\n",
    "#apply treshold\n",
    "thresh = cv2.threshold(gray, 10, 255, cv2.THRESH_OTSU)[1]\n",
    "cv2.imshow('thresh', thresh)\n",
    "cv2.waitKey(0)"
   ]
  },
  {
   "cell_type": "code",
   "execution_count": null,
   "id": "2de3a619",
   "metadata": {},
   "outputs": [],
   "source": [
    "0"
   ]
  },
  {
   "cell_type": "code",
   "execution_count": null,
   "id": "3014d586",
   "metadata": {},
   "outputs": [],
   "source": []
  }
 ],
 "metadata": {
  "kernelspec": {
   "display_name": "Python 3 (ipykernel)",
   "language": "python",
   "name": "python3"
  },
  "language_info": {
   "codemirror_mode": {
    "name": "ipython",
    "version": 3
   },
   "file_extension": ".py",
   "mimetype": "text/x-python",
   "name": "python",
   "nbconvert_exporter": "python",
   "pygments_lexer": "ipython3",
   "version": "3.9.12"
  }
 },
 "nbformat": 4,
 "nbformat_minor": 5
}
