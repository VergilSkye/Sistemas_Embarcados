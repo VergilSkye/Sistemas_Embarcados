{
 "cells": [
  {
   "cell_type": "code",
   "execution_count": 9,
   "id": "6ca5270c",
   "metadata": {
    "scrolled": true
   },
   "outputs": [],
   "source": [
    "import cv2\n",
    "import imutils\n",
    "import numpy as np\n",
    "import pytesseract\n",
    "from PIL import Image"
   ]
  },
  {
   "cell_type": "code",
   "execution_count": 25,
   "id": "ecf5fcbd",
   "metadata": {},
   "outputs": [],
   "source": [
    "img = cv2.imread('CARRO1.JPG', cv2.IMREAD_UNCHANGED)"
   ]
  },
  {
   "cell_type": "markdown",
   "id": "d7f537a3",
   "metadata": {},
   "source": [
    "<img src=\"CARRO1.JPG\">"
   ]
  },
  {
   "cell_type": "code",
   "execution_count": null,
   "id": "a8dd23b9",
   "metadata": {},
   "outputs": [],
   "source": []
  },
  {
   "cell_type": "code",
   "execution_count": 23,
   "id": "08be9284",
   "metadata": {},
   "outputs": [
    {
     "ename": "error",
     "evalue": "OpenCV(4.7.0) :-1: error: (-5:Bad argument) in function 'cvtColor'\n> Overload resolution failed:\n>  - src is not a numpy array, neither a scalar\n>  - Expected Ptr<cv::UMat> for argument 'src'\n",
     "output_type": "error",
     "traceback": [
      "\u001b[1;31m---------------------------------------------------------------------------\u001b[0m",
      "\u001b[1;31merror\u001b[0m                                     Traceback (most recent call last)",
      "Input \u001b[1;32mIn [23]\u001b[0m, in \u001b[0;36m<cell line: 2>\u001b[1;34m()\u001b[0m\n\u001b[0;32m      1\u001b[0m \u001b[38;5;66;03m#img = cv2.resize('CARRO1.JPG', (620,480) )\u001b[39;00m\n\u001b[1;32m----> 2\u001b[0m gray \u001b[38;5;241m=\u001b[39m \u001b[43mcv2\u001b[49m\u001b[38;5;241;43m.\u001b[39;49m\u001b[43mcvtColor\u001b[49m\u001b[43m(\u001b[49m\u001b[38;5;124;43m'\u001b[39;49m\u001b[38;5;124;43mCARRO1.JPG\u001b[39;49m\u001b[38;5;124;43m'\u001b[39;49m\u001b[43m,\u001b[49m\u001b[43m \u001b[49m\u001b[43mcv2\u001b[49m\u001b[38;5;241;43m.\u001b[39;49m\u001b[43mCOLOR_BGR2GRAY\u001b[49m\u001b[43m)\u001b[49m\n",
      "\u001b[1;31merror\u001b[0m: OpenCV(4.7.0) :-1: error: (-5:Bad argument) in function 'cvtColor'\n> Overload resolution failed:\n>  - src is not a numpy array, neither a scalar\n>  - Expected Ptr<cv::UMat> for argument 'src'\n"
     ]
    }
   ],
   "source": [
    "img = cv2.resize('CARRO1.JPG', (620,480) )\n",
    "gray = cv2.cvtColor('CARRO1.JPG', cv2.COLOR_BGR2GRAY) #convert to grey scale\n",
    "\n",
    "\n",
    "\n"
   ]
  },
  {
   "cell_type": "markdown",
   "id": "a15de4da",
   "metadata": {},
   "source": [
    "gray = cv2.cvtColor(img, cv2.COLOR_BGR2GRAY) #convert to grey scale\n",
    "\n",
    "gray = cv2.bilateralFilter(gray, 11, 17, 17) #Blur to reduce noise\n",
    "\n",
    "edged = cv2.Canny(gray, 30, 200) #Perform Edge detection\n",
    "\n",
    "\n",
    "# find contours in the edged image, keep only the largest\n",
    "\n",
    "# ones, and initialize our screen contour\n",
    "\n",
    "cnts = cv2.findContours(edged.copy(), cv2.RETR_TREE, cv2.CHAIN_APPROX_SIMPLE)\n",
    "\n",
    "cnts = imutils.grab_contours(cnts)\n",
    "\n",
    "cnts = sorted(cnts, key = cv2.contourArea, reverse = True)[:10]\n",
    "\n",
    "screenCnt = None\n",
    "\n",
    "\n",
    "# loop over our contours\n",
    "\n",
    "for c in cnts:\n",
    "\n",
    " # approximate the contour\n",
    "\n",
    " peri = cv2.arcLength(c, True)\n",
    "\n",
    " approx = cv2.approxPolyDP(c, 0.018 * peri, True)\n",
    "\n",
    " \n",
    "\n",
    " # if our approximated contour has four points, then\n",
    "\n",
    " # we can assume that we have found our screen\n",
    "\n",
    " if len(approx) == 4:\n",
    "\n",
    "  screenCnt = approx\n",
    "\n",
    "  break\n",
    "\n",
    "\n",
    " \n",
    "\n",
    "\n",
    "if screenCnt is None:\n",
    "\n",
    " detected = 0\n",
    "\n",
    " print \"No contour detected\"\n",
    "\n",
    "else:\n",
    "\n",
    " detected = 1\n",
    "\n",
    "\n",
    "if detected == 1:\n",
    "\n",
    " cv2.drawContours(img, [screenCnt], -1, (0, 255, 0), 3)\n",
    "\n",
    "\n",
    "# Masking the part other than the number plate\n",
    "\n",
    "mask = np.zeros(gray.shape,np.uint8)\n",
    "\n",
    "new_image = cv2.drawContours(mask,[screenCnt],0,255,-1,)\n",
    "\n",
    "new_image = cv2.bitwise_and(img,img,mask=mask)\n",
    "\n",
    "\n",
    "# Now crop\n",
    "\n",
    "(x, y) = np.where(mask == 255)\n",
    "\n",
    "(topx, topy) = (np.min(x), np.min(y))\n",
    "\n",
    "(bottomx, bottomy) = (np.max(x), np.max(y))\n",
    "\n",
    "Cropped = gray[topx:bottomx+1, topy:bottomy+1]\n",
    "\n",
    "\n",
    " \n",
    "\n",
    "\n",
    "#Read the number plate\n",
    "\n",
    "text = pytesseract.image_to_string(Cropped, config='--psm 11')\n",
    "\n",
    "print(\"Detected Number is:\",text)\n",
    "\n",
    "\n",
    "cv2.imshow('image',img)\n",
    "\n",
    "cv2.imshow('Cropped',Cropped)\n",
    "\n",
    "\n",
    "cv2.waitKey(0)\n",
    "\n",
    "cv2.destroyAllWindows()"
   ]
  }
 ],
 "metadata": {
  "kernelspec": {
   "display_name": "Python 3 (ipykernel)",
   "language": "python",
   "name": "python3"
  },
  "language_info": {
   "codemirror_mode": {
    "name": "ipython",
    "version": 3
   },
   "file_extension": ".py",
   "mimetype": "text/x-python",
   "name": "python",
   "nbconvert_exporter": "python",
   "pygments_lexer": "ipython3",
   "version": "3.9.12"
  }
 },
 "nbformat": 4,
 "nbformat_minor": 5
}
